{
 "cells": [
  {
   "cell_type": "code",
   "execution_count": 1,
   "id": "9ddea0f7",
   "metadata": {},
   "outputs": [],
   "source": [
    "temperature_scale = (\"Fahrenheit\",\"Celcius\",\"Kelvin\")"
   ]
  },
  {
   "cell_type": "code",
   "execution_count": 2,
   "id": "95a09e76",
   "metadata": {},
   "outputs": [
    {
     "name": "stdout",
     "output_type": "stream",
     "text": [
      "('Fahrenheit', 'Celcius', 'Kelvin')\n"
     ]
    }
   ],
   "source": [
    "print(temperature_scale)"
   ]
  },
  {
   "cell_type": "code",
   "execution_count": 3,
   "id": "928641a3",
   "metadata": {},
   "outputs": [],
   "source": [
    "one_day_of_hourly_temperatures = [67,67,68,69,71,73,75,76,79,81,81,80,82,81,81,80,78,75,72,70,67,65,66,66]\n",
    "one_day_of_hourly_humidity = [60,65,65,70,70,70,70,75,75,75,75,80,80,85,85,85,85,80,80,80,80,80,80,80]\n",
    "one_day_of_hourly_rainfall = [0,0,0,0.1,0.1,0.05,0.1,0.15,0.2,0.3,0.3,0.5,0,0,0,0,0,0,0,0,0,0,0,0]"
   ]
  },
  {
   "cell_type": "code",
   "execution_count": 4,
   "id": "27e83603",
   "metadata": {},
   "outputs": [],
   "source": [
    "weather_data = []\n",
    "# # weather_data = [{\n",
    "#                    \"hour\": ,\n",
    "#                    \"temperature\": ,\n",
    "#                    \"humidity\": ,\n",
    "#                    \"rainfall\":\n",
    "# }]\n",
    "# the \"hour\" is from 00:00 hrs to 23:00 hrs"
   ]
  },
  {
   "cell_type": "code",
   "execution_count": 5,
   "id": "b50328f6",
   "metadata": {},
   "outputs": [
    {
     "name": "stdout",
     "output_type": "stream",
     "text": [
      "0\n",
      "1\n",
      "2\n",
      "3\n",
      "4\n",
      "5\n",
      "6\n",
      "7\n",
      "8\n",
      "9\n",
      "10\n",
      "11\n",
      "12\n",
      "13\n",
      "14\n",
      "15\n",
      "16\n",
      "17\n",
      "18\n",
      "19\n",
      "20\n",
      "21\n",
      "22\n",
      "23\n"
     ]
    }
   ],
   "source": [
    "for i in range(len(one_day_of_hourly_temperatures)):\n",
    "    print(i)"
   ]
  },
  {
   "cell_type": "code",
   "execution_count": 6,
   "id": "a7a15e8c",
   "metadata": {},
   "outputs": [],
   "source": [
    "for i in range(len(one_day_of_hourly_temperatures)):\n",
    "    table_header_with_data = {\n",
    "                    \"hour\" : i,\n",
    "                    \"temperature\" : one_day_of_hourly_temperatures[i],\n",
    "                    \"humidity\" : one_day_of_hourly_humidity[i],\n",
    "                    \"rainfall\" : one_day_of_hourly_rainfall[i]\n",
    "    }\n",
    "    weather_data.append(table_header_with_data)"
   ]
  },
  {
   "cell_type": "code",
   "execution_count": 7,
   "id": "1a56ed1d",
   "metadata": {},
   "outputs": [
    {
     "name": "stdout",
     "output_type": "stream",
     "text": [
      "[{'hour': 0, 'temperature': 67, 'humidity': 60, 'rainfall': 0}, {'hour': 1, 'temperature': 67, 'humidity': 65, 'rainfall': 0}, {'hour': 2, 'temperature': 68, 'humidity': 65, 'rainfall': 0}, {'hour': 3, 'temperature': 69, 'humidity': 70, 'rainfall': 0.1}, {'hour': 4, 'temperature': 71, 'humidity': 70, 'rainfall': 0.1}, {'hour': 5, 'temperature': 73, 'humidity': 70, 'rainfall': 0.05}, {'hour': 6, 'temperature': 75, 'humidity': 70, 'rainfall': 0.1}, {'hour': 7, 'temperature': 76, 'humidity': 75, 'rainfall': 0.15}, {'hour': 8, 'temperature': 79, 'humidity': 75, 'rainfall': 0.2}, {'hour': 9, 'temperature': 81, 'humidity': 75, 'rainfall': 0.3}, {'hour': 10, 'temperature': 81, 'humidity': 75, 'rainfall': 0.3}, {'hour': 11, 'temperature': 80, 'humidity': 80, 'rainfall': 0.5}, {'hour': 12, 'temperature': 82, 'humidity': 80, 'rainfall': 0}, {'hour': 13, 'temperature': 81, 'humidity': 85, 'rainfall': 0}, {'hour': 14, 'temperature': 81, 'humidity': 85, 'rainfall': 0}, {'hour': 15, 'temperature': 80, 'humidity': 85, 'rainfall': 0}, {'hour': 16, 'temperature': 78, 'humidity': 85, 'rainfall': 0}, {'hour': 17, 'temperature': 75, 'humidity': 80, 'rainfall': 0}, {'hour': 18, 'temperature': 72, 'humidity': 80, 'rainfall': 0}, {'hour': 19, 'temperature': 70, 'humidity': 80, 'rainfall': 0}, {'hour': 20, 'temperature': 67, 'humidity': 80, 'rainfall': 0}, {'hour': 21, 'temperature': 65, 'humidity': 80, 'rainfall': 0}, {'hour': 22, 'temperature': 66, 'humidity': 80, 'rainfall': 0}, {'hour': 23, 'temperature': 66, 'humidity': 80, 'rainfall': 0}]\n"
     ]
    }
   ],
   "source": [
    "print(weather_data)"
   ]
  },
  {
   "cell_type": "code",
   "execution_count": 8,
   "id": "62c0c7c6",
   "metadata": {},
   "outputs": [
    {
     "name": "stdout",
     "output_type": "stream",
     "text": [
      "{'hour': 0, 'temperature': 67, 'humidity': 60, 'rainfall': 0}\n",
      "{'hour': 1, 'temperature': 67, 'humidity': 65, 'rainfall': 0}\n",
      "{'hour': 2, 'temperature': 68, 'humidity': 65, 'rainfall': 0}\n",
      "{'hour': 3, 'temperature': 69, 'humidity': 70, 'rainfall': 0.1}\n",
      "{'hour': 4, 'temperature': 71, 'humidity': 70, 'rainfall': 0.1}\n",
      "{'hour': 5, 'temperature': 73, 'humidity': 70, 'rainfall': 0.05}\n",
      "{'hour': 6, 'temperature': 75, 'humidity': 70, 'rainfall': 0.1}\n",
      "{'hour': 7, 'temperature': 76, 'humidity': 75, 'rainfall': 0.15}\n",
      "{'hour': 8, 'temperature': 79, 'humidity': 75, 'rainfall': 0.2}\n",
      "{'hour': 9, 'temperature': 81, 'humidity': 75, 'rainfall': 0.3}\n",
      "{'hour': 10, 'temperature': 81, 'humidity': 75, 'rainfall': 0.3}\n",
      "{'hour': 11, 'temperature': 80, 'humidity': 80, 'rainfall': 0.5}\n",
      "{'hour': 12, 'temperature': 82, 'humidity': 80, 'rainfall': 0}\n",
      "{'hour': 13, 'temperature': 81, 'humidity': 85, 'rainfall': 0}\n",
      "{'hour': 14, 'temperature': 81, 'humidity': 85, 'rainfall': 0}\n",
      "{'hour': 15, 'temperature': 80, 'humidity': 85, 'rainfall': 0}\n",
      "{'hour': 16, 'temperature': 78, 'humidity': 85, 'rainfall': 0}\n",
      "{'hour': 17, 'temperature': 75, 'humidity': 80, 'rainfall': 0}\n",
      "{'hour': 18, 'temperature': 72, 'humidity': 80, 'rainfall': 0}\n",
      "{'hour': 19, 'temperature': 70, 'humidity': 80, 'rainfall': 0}\n",
      "{'hour': 20, 'temperature': 67, 'humidity': 80, 'rainfall': 0}\n",
      "{'hour': 21, 'temperature': 65, 'humidity': 80, 'rainfall': 0}\n",
      "{'hour': 22, 'temperature': 66, 'humidity': 80, 'rainfall': 0}\n",
      "{'hour': 23, 'temperature': 66, 'humidity': 80, 'rainfall': 0}\n"
     ]
    }
   ],
   "source": [
    "for i in weather_data:\n",
    "    print(i)"
   ]
  },
  {
   "cell_type": "code",
   "execution_count": 9,
   "id": "042201cb",
   "metadata": {},
   "outputs": [],
   "source": [
    "# Using your weather_data list, print the following with one line of code for each print statement:\n",
    "\n",
    "# Temperature at 2 p.m.\n",
    "# Humidity at 11 p.m.\n",
    "# Rainfall at 9 a.m"
   ]
  },
  {
   "cell_type": "code",
   "execution_count": 10,
   "id": "fd5649cd",
   "metadata": {},
   "outputs": [
    {
     "name": "stdout",
     "output_type": "stream",
     "text": [
      "81\n"
     ]
    }
   ],
   "source": [
    "print(weather_data[14][\"temperature\"])"
   ]
  },
  {
   "cell_type": "code",
   "execution_count": 11,
   "id": "0656a4a6",
   "metadata": {},
   "outputs": [
    {
     "name": "stdout",
     "output_type": "stream",
     "text": [
      "80\n"
     ]
    }
   ],
   "source": [
    "print(weather_data[11][\"humidity\"])"
   ]
  },
  {
   "cell_type": "code",
   "execution_count": 12,
   "id": "4512c0d5",
   "metadata": {},
   "outputs": [
    {
     "name": "stdout",
     "output_type": "stream",
     "text": [
      "0.3\n"
     ]
    }
   ],
   "source": [
    "print(weather_data[9][\"rainfall\"])"
   ]
  },
  {
   "cell_type": "code",
   "execution_count": 13,
   "id": "bf33c2e2",
   "metadata": {},
   "outputs": [],
   "source": [
    "class Forecast:\n",
    "    \"\"\"\n",
    "    Creates Forecast class : to forecast weather situation for a given location\n",
    "    Parameters:-\n",
    "    location: a str data type\n",
    "            : name of the location where the Forecast will return weather situation    \n",
    "    \"\"\"\n",
    "    def __init__(self,location=\"\"):\n",
    "        self.location = location\n",
    "    def get_daily_high(self):\n",
    "        daily_hi = max(one_day_of_hourly_temperatures)\n",
    "        return daily_hi\n",
    "    def get_daily_low(self):\n",
    "        daily_lo = min(one_day_of_hourly_temperatures)\n",
    "        return daily_lo\n",
    "    def get_daily_chance_of_rain(self):\n",
    "        number_of_years_of_data = 10\n",
    "        time_it_has_rained = 0\n",
    "        total_val = sum(one_day_of_hourly_rainfall)\n",
    "        if total_val > 1:\n",
    "            time_it_has_rained += 1\n",
    "            percentage_time_has_rained = time_it_has_rained / number_of_years_of_data * 100\n",
    "        return percentage_time_has_rained\n",
    "    def display_daily_forecast(self,scale = \"\"):\n",
    "        daily_hi_temp = self.get_daily_high()\n",
    "        daily_lo_temp = self.get_daily_low()\n",
    "        daily_rain_chance = self.get_daily_chance_of_rain()\n",
    "        print(f\"The weather forecast for today is: High of {daily_hi_temp} {scale}, Low of {daily_lo_temp} {scale}, with a {daily_rain_chance}% chance of precipitation.\")\n",
    "    def display_weekly_forecast(self,scale = \"\"):\n",
    "        daily_hi_temp = self.get_daily_high()\n",
    "        daily_lo_temp = self.get_daily_low()\n",
    "        daily_rain_chance = self.get_daily_chance_of_rain()\n",
    "        print(\"This week's weather forecast :\")\n",
    "        print(f\"\\tMonday: \\tHigh {daily_hi_temp} {scale}, Low {daily_lo_temp} {scale}, Rain {daily_rain_chance} %.\")\n",
    "        print(f\"\\tTuesday: \\tHigh {daily_hi_temp} {scale}, Low {daily_lo_temp} {scale}, Rain {daily_rain_chance} %.\")\n",
    "        print(f\"\\tWednesday: \\tHigh {daily_hi_temp} {scale}, Low {daily_lo_temp} {scale}, Rain {daily_rain_chance} %.\")\n",
    "        print(f\"\\tThursday: \\tHigh {daily_hi_temp} {scale}, Low {daily_lo_temp} {scale}, Rain {daily_rain_chance} %.\")\n",
    "        print(f\"\\tFriday: \\tHigh {daily_hi_temp} {scale}, Low {daily_lo_temp} {scale}, Rain {daily_rain_chance} %.\")\n",
    "        print(f\"\\tSaturday: \\tHigh {daily_hi_temp} {scale}, Low {daily_lo_temp} {scale}, Rain {daily_rain_chance} %.\")\n",
    "        print(f\"\\tSunday: \\tHigh {daily_hi_temp} {scale}, Low {daily_lo_temp} {scale}, Rain {daily_rain_chance} %.\")"
   ]
  },
  {
   "cell_type": "code",
   "execution_count": 14,
   "id": "9c9b68ea",
   "metadata": {},
   "outputs": [],
   "source": [
    "test = Forecast(\"Queens,NY\")"
   ]
  },
  {
   "cell_type": "code",
   "execution_count": 15,
   "id": "27906dba",
   "metadata": {},
   "outputs": [
    {
     "name": "stdout",
     "output_type": "stream",
     "text": [
      "The weather forecast for today is: High of 82 Fahrenheit, Low of 65 Fahrenheit, with a 10.0% chance of precipitation.\n"
     ]
    }
   ],
   "source": [
    "test.display_daily_forecast(\"Fahrenheit\")"
   ]
  },
  {
   "cell_type": "code",
   "execution_count": 16,
   "id": "a2e1f130",
   "metadata": {},
   "outputs": [
    {
     "name": "stdout",
     "output_type": "stream",
     "text": [
      "This week's weather forecast :\n",
      "\tMonday: \tHigh 82 Fahrenheit, Low 65 Fahrenheit, Rain 10.0 %.\n",
      "\tTuesday: \tHigh 82 Fahrenheit, Low 65 Fahrenheit, Rain 10.0 %.\n",
      "\tWednesday: \tHigh 82 Fahrenheit, Low 65 Fahrenheit, Rain 10.0 %.\n",
      "\tThursday: \tHigh 82 Fahrenheit, Low 65 Fahrenheit, Rain 10.0 %.\n",
      "\tFriday: \tHigh 82 Fahrenheit, Low 65 Fahrenheit, Rain 10.0 %.\n",
      "\tSaturday: \tHigh 82 Fahrenheit, Low 65 Fahrenheit, Rain 10.0 %.\n",
      "\tSunday: \tHigh 82 Fahrenheit, Low 65 Fahrenheit, Rain 10.0 %.\n"
     ]
    }
   ],
   "source": [
    "test.display_weekly_forecast(\"Fahrenheit\")"
   ]
  },
  {
   "cell_type": "code",
   "execution_count": 17,
   "id": "09c5fc25",
   "metadata": {},
   "outputs": [],
   "source": [
    "Forecast?"
   ]
  },
  {
   "cell_type": "code",
   "execution_count": 18,
   "id": "1674ff7c",
   "metadata": {},
   "outputs": [],
   "source": [
    "test = Forecast(\"Austin,TX\")"
   ]
  },
  {
   "cell_type": "code",
   "execution_count": 19,
   "id": "f72b910f",
   "metadata": {},
   "outputs": [
    {
     "name": "stdout",
     "output_type": "stream",
     "text": [
      "High : 82\n"
     ]
    }
   ],
   "source": [
    "print(f\"High : {test.get_daily_high()}\")"
   ]
  },
  {
   "cell_type": "code",
   "execution_count": 20,
   "id": "107a8fe1",
   "metadata": {},
   "outputs": [
    {
     "name": "stdout",
     "output_type": "stream",
     "text": [
      "Low : 65\n"
     ]
    }
   ],
   "source": [
    "print(f\"Low : {test.get_daily_low()}\")"
   ]
  },
  {
   "cell_type": "code",
   "execution_count": 21,
   "id": "dd6142bd",
   "metadata": {},
   "outputs": [
    {
     "name": "stdout",
     "output_type": "stream",
     "text": [
      "Chance of rain : 10.0\n"
     ]
    }
   ],
   "source": [
    "print(f\"Chance of rain : {test.get_daily_chance_of_rain()}\")"
   ]
  },
  {
   "cell_type": "code",
   "execution_count": 22,
   "id": "d17d40be",
   "metadata": {},
   "outputs": [
    {
     "name": "stdout",
     "output_type": "stream",
     "text": [
      "The weather forecast for today is: High of 82 , Low of 65 , with a 10.0% chance of precipitation.\n",
      "This week's weather forecast :\n",
      "\tMonday: \tHigh 82 , Low 65 , Rain 10.0 %.\n",
      "\tTuesday: \tHigh 82 , Low 65 , Rain 10.0 %.\n",
      "\tWednesday: \tHigh 82 , Low 65 , Rain 10.0 %.\n",
      "\tThursday: \tHigh 82 , Low 65 , Rain 10.0 %.\n",
      "\tFriday: \tHigh 82 , Low 65 , Rain 10.0 %.\n",
      "\tSaturday: \tHigh 82 , Low 65 , Rain 10.0 %.\n",
      "\tSunday: \tHigh 82 , Low 65 , Rain 10.0 %.\n"
     ]
    }
   ],
   "source": [
    "test = Forecast(\"Austin,TX\")\n",
    "test.display_daily_forecast()\n",
    "test.display_weekly_forecast()"
   ]
  },
  {
   "cell_type": "code",
   "execution_count": 23,
   "id": "1ea932bf",
   "metadata": {},
   "outputs": [
    {
     "name": "stdout",
     "output_type": "stream",
     "text": [
      "The weather forecast for today is: High of 82 Fahrenheit, Low of 65 Fahrenheit, with a 10.0% chance of precipitation.\n",
      "This week's weather forecast :\n",
      "\tMonday: \tHigh 82 Fahrenheit, Low 65 Fahrenheit, Rain 10.0 %.\n",
      "\tTuesday: \tHigh 82 Fahrenheit, Low 65 Fahrenheit, Rain 10.0 %.\n",
      "\tWednesday: \tHigh 82 Fahrenheit, Low 65 Fahrenheit, Rain 10.0 %.\n",
      "\tThursday: \tHigh 82 Fahrenheit, Low 65 Fahrenheit, Rain 10.0 %.\n",
      "\tFriday: \tHigh 82 Fahrenheit, Low 65 Fahrenheit, Rain 10.0 %.\n",
      "\tSaturday: \tHigh 82 Fahrenheit, Low 65 Fahrenheit, Rain 10.0 %.\n",
      "\tSunday: \tHigh 82 Fahrenheit, Low 65 Fahrenheit, Rain 10.0 %.\n"
     ]
    }
   ],
   "source": [
    "test = Forecast(\"Queens,NY\")\n",
    "test.display_daily_forecast(\"Fahrenheit\")\n",
    "test.display_weekly_forecast(\"Fahrenheit\")"
   ]
  },
  {
   "cell_type": "code",
   "execution_count": null,
   "id": "a758117d",
   "metadata": {},
   "outputs": [],
   "source": []
  },
  {
   "cell_type": "code",
   "execution_count": null,
   "id": "f2f61ee5",
   "metadata": {},
   "outputs": [],
   "source": []
  },
  {
   "cell_type": "code",
   "execution_count": null,
   "id": "86410be3",
   "metadata": {},
   "outputs": [],
   "source": []
  }
 ],
 "metadata": {
  "kernelspec": {
   "display_name": "Python 3 (ipykernel)",
   "language": "python",
   "name": "python3"
  },
  "language_info": {
   "codemirror_mode": {
    "name": "ipython",
    "version": 3
   },
   "file_extension": ".py",
   "mimetype": "text/x-python",
   "name": "python",
   "nbconvert_exporter": "python",
   "pygments_lexer": "ipython3",
   "version": "3.10.9"
  }
 },
 "nbformat": 4,
 "nbformat_minor": 5
}
